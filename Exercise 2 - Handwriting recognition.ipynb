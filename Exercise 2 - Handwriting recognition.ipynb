{
  "nbformat": 4,
  "nbformat_minor": 0,
  "metadata": {
    "colab": {
      "name": "Exercise2 Handwritten Accuracy.ipynb",
      "version": "0.3.2",
      "provenance": [],
      "collapsed_sections": [],
      "include_colab_link": true
    },
    "kernelspec": {
      "name": "python3",
      "display_name": "Python 3"
    }
  },
  "cells": [
    {
      "cell_type": "markdown",
      "metadata": {
        "id": "view-in-github",
        "colab_type": "text"
      },
      "source": [
        "<a href=\"https://colab.research.google.com/github/imAliAsad/Data-Science--Cheat-Sheet/blob/master/Exercise%202%20-%20Handwriting%20recognition.ipynb\" target=\"_parent\"><img src=\"https://colab.research.google.com/assets/colab-badge.svg\" alt=\"Open In Colab\"/></a>"
      ]
    },
    {
      "cell_type": "markdown",
      "metadata": {
        "id": "tOoyQ70H00_s",
        "colab_type": "text"
      },
      "source": [
        "## Exercise 2\n",
        "In the course you learned how to do classification using Fashion MNIST, a data set containing items of clothing. There's another, similar dataset called MNIST which has items of handwriting -- the digits 0 through 9.\n",
        "\n",
        "Write an MNIST classifier that trains to 99% accuracy or above, and does it without a fixed number of epochs -- i.e. you should stop training once you reach that level of accuracy.\n",
        "\n",
        "Some notes:\n",
        "1. It should succeed in less than 10 epochs, so it is okay to change epochs to 10, but nothing larger\n",
        "2. When it reaches 99% or greater it should print out the string \"Reached 99% accuracy so cancelling training!\"\n",
        "3. If you add any additional variables, make sure you use the same names as the ones used in the class\n",
        "\n",
        "I've started the code for you below -- how would you finish it? "
      ]
    },
    {
      "cell_type": "code",
      "metadata": {
        "id": "9rvXQGAA0ssC",
        "colab_type": "code",
        "outputId": "c428b71b-bb50-449a-cfa8-935e856192a9",
        "colab": {
          "base_uri": "https://localhost:8080/",
          "height": 311
        }
      },
      "source": [
        "\n",
        "\n",
        "import tensorflow as tf\n",
        "mnist = tf.keras.datasets.mnist # 28*28 images of handwritten images of 0-9\n",
        "\n",
        "\n",
        "# YOUR CODE SHOULD START HERE\n",
        "class myCallback(tf.keras.callbacks.Callback):\n",
        "  def on_epoch_end(self, epoch, logs={}):\n",
        "    if(logs.get('acc')>0.99):\n",
        "      print(\"\\nReached 99% accuracy so cancelling training!\")\n",
        "      self.model.stop_training = True\n",
        "# YOUR CODE SHOULD END HERE\n",
        "\n",
        "\n",
        "(x_train, y_train),(x_test, y_test) = mnist.load_data()\n",
        "# YOUR CODE SHOULD START HERE\n",
        "x_train, x_test = x_train / 255.0, x_test / 255.0\n",
        "# normalize the image data\n",
        "# x_train = tf.keras.utils.normalize(x_train, axis=1)\n",
        "# x_test = tf.keras.utils.normalize(x_test, axis=1)\n",
        "\n",
        "callbacks = myCallback()\n",
        "# YOUR CODE SHOULD END HERE\n",
        "model = tf.keras.models.Sequential([\n",
        "# YOUR CODE SHOULD START HERE\n",
        "    # the first layer should be flattern\n",
        "    tf.keras.layers.Flatten(),\n",
        "    # add two hidden layers\n",
        "    tf.keras.layers.Dense(128, activation=tf.nn.relu),\n",
        "    tf.keras.layers.Dense(128, activation=tf.nn.relu),\n",
        "    \n",
        "    # add output layer here\n",
        "    tf.keras.layers.Dense(10, activation=tf.nn.softmax)\n",
        "# YOUR CODE SHOULD END HERE\n",
        "])\n",
        "\n",
        "model.compile(optimizer='adam',\n",
        "              loss='sparse_categorical_crossentropy',\n",
        "              metrics=['accuracy'])\n",
        "\n",
        "# YOUR CODE SHOULD START HERE\n",
        "model.fit(x_train, y_train, epochs=10, callbacks=[callbacks])\n",
        "# YOUR CODE SHOULD END HERE"
      ],
      "execution_count": 0,
      "outputs": [
        {
          "output_type": "stream",
          "text": [
            "Epoch 1/10\n",
            "60000/60000 [==============================] - 5s 78us/sample - loss: 0.2297 - acc: 0.9326\n",
            "Epoch 2/10\n",
            "60000/60000 [==============================] - 4s 71us/sample - loss: 0.0952 - acc: 0.9707\n",
            "Epoch 3/10\n",
            "60000/60000 [==============================] - 4s 71us/sample - loss: 0.0671 - acc: 0.9788\n",
            "Epoch 4/10\n",
            "60000/60000 [==============================] - 4s 71us/sample - loss: 0.0508 - acc: 0.9835\n",
            "Epoch 5/10\n",
            "60000/60000 [==============================] - 4s 71us/sample - loss: 0.0408 - acc: 0.9865\n",
            "Epoch 6/10\n",
            "60000/60000 [==============================] - 4s 71us/sample - loss: 0.0350 - acc: 0.9882\n",
            "Epoch 7/10\n",
            "59968/60000 [============================>.] - ETA: 0s - loss: 0.0263 - acc: 0.9909\n",
            "Reached 99% accuracy so cancelling training!\n",
            "60000/60000 [==============================] - 4s 71us/sample - loss: 0.0263 - acc: 0.9909\n"
          ],
          "name": "stdout"
        },
        {
          "output_type": "execute_result",
          "data": {
            "text/plain": [
              "<tensorflow.python.keras.callbacks.History at 0x7f25bf584da0>"
            ]
          },
          "metadata": {
            "tags": []
          },
          "execution_count": 3
        }
      ]
    }
  ]
}