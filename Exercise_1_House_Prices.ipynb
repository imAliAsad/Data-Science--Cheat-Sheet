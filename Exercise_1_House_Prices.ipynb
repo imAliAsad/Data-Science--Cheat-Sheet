{
  "nbformat": 4,
  "nbformat_minor": 0,
  "metadata": {
    "colab": {
      "name": "Exercise 1 -  House Prices",
      "version": "0.3.2",
      "provenance": [],
      "include_colab_link": true
    },
    "kernelspec": {
      "name": "python3",
      "display_name": "Python 3"
    }
  },
  "cells": [
    {
      "cell_type": "markdown",
      "metadata": {
        "id": "view-in-github",
        "colab_type": "text"
      },
      "source": [
        "<a href=\"https://colab.research.google.com/github/imAliAsad/Data-Science--Cheat-Sheet/blob/master/Exercise_1_House_Prices.ipynb\" target=\"_parent\"><img src=\"https://colab.research.google.com/assets/colab-badge.svg\" alt=\"Open In Colab\"/></a>"
      ]
    },
    {
      "cell_type": "markdown",
      "metadata": {
        "id": "mw2VBrBcgvGa",
        "colab_type": "text"
      },
      "source": [
        "In this exercise you'll try to build a neural network that predicts the price of a house according to a simple formula.\n",
        "\n",
        "So, imagine if house pricing was as easy as a house costs 50k + 50k per bedroom, so that a 1 bedroom house costs 100k, a 2 bedroom house costs 150k etc.\n",
        "\n",
        "How would you create a neural network that learns this relationship so that it would predict a 7 bedroom house as costing close to 400k etc.\n",
        "\n",
        "Hint: Your network might work better if you scale the house price down. You don't have to give the answer 400...it might be better to create something that predicts the number 4, and then your answer is in the 'hundreds of thousands' etc."
      ]
    },
    {
      "cell_type": "code",
      "metadata": {
        "id": "PUNO2E6SeURH",
        "colab_type": "code",
        "colab": {}
      },
      "source": [
        "import tensorflow as tf\n",
        "import numpy as np\n",
        "from tensorflow import keras\n",
        "\n"
      ],
      "execution_count": 0,
      "outputs": []
    },
    {
      "cell_type": "code",
      "metadata": {
        "id": "a_pBnjYvFH-s",
        "colab_type": "code",
        "outputId": "ea15e078-aa89-490a-99ef-94c86bce83a8",
        "colab": {
          "base_uri": "https://localhost:8080/",
          "height": 106
        }
      },
      "source": [
        "# Create a neural network\n",
        "model = tf.keras.Sequential([keras.layers.Dense(units=1, input_shape=[1])])\n",
        "model.compile(optimizer='sgd', loss='mean_squared_error')\n"
      ],
      "execution_count": 0,
      "outputs": [
        {
          "output_type": "stream",
          "text": [
            "WARNING: Logging before flag parsing goes to stderr.\n",
            "W0725 17:48:04.591531 140419715454848 deprecation.py:506] From /usr/local/lib/python3.6/dist-packages/tensorflow/python/ops/init_ops.py:1251: calling VarianceScaling.__init__ (from tensorflow.python.ops.init_ops) with dtype is deprecated and will be removed in a future version.\n",
            "Instructions for updating:\n",
            "Call initializer instance with the dtype argument instead of passing it to the constructor\n"
          ],
          "name": "stderr"
        }
      ]
    },
    {
      "cell_type": "code",
      "metadata": {
        "id": "dMJg1ZAiFLPi",
        "colab_type": "code",
        "outputId": "85621ae9-4d32-499a-be99-2f913c980fb8",
        "colab": {
          "base_uri": "https://localhost:8080/",
          "height": 121
        }
      },
      "source": [
        "# Data\n",
        "_input = np.array([1, 2, 3, 4, 5, 6], dtype=int)\n",
        "_output = np.array([300, 600, 900, 1200, 1500, 1800], dtype=int)\n",
        "\n",
        "for i, data in enumerate(_input):\n",
        "  print(\"{} bed = {} AED price\".format(data, _output[i]))"
      ],
      "execution_count": 0,
      "outputs": [
        {
          "output_type": "stream",
          "text": [
            "1 bed = 300 AED price\n",
            "2 bed = 600 AED price\n",
            "3 bed = 900 AED price\n",
            "4 bed = 1200 AED price\n",
            "5 bed = 1500 AED price\n",
            "6 bed = 1800 AED price\n"
          ],
          "name": "stdout"
        }
      ]
    },
    {
      "cell_type": "code",
      "metadata": {
        "id": "XQ8JvTndFN-m",
        "colab_type": "code",
        "colab": {}
      },
      "source": [
        "# Train the model\n",
        "_model = model.fit(_input, _output, epochs=1000, verbose=False)"
      ],
      "execution_count": 0,
      "outputs": []
    },
    {
      "cell_type": "code",
      "metadata": {
        "id": "iEFK1J1eHbVq",
        "colab_type": "code",
        "colab": {}
      },
      "source": [
        "# Plot how the model train itself over the time\n",
        "import matplotlib.pyplot as plt\n",
        "\n",
        "plt.xlabel('Epoch Number')\n",
        "plt.ylabel('Loss Magnitude')\n",
        "\n",
        "plt.plot(_model.history['loss'])"
      ],
      "execution_count": 0,
      "outputs": []
    },
    {
      "cell_type": "code",
      "metadata": {
        "id": "2CVhMkqXDP96",
        "colab_type": "code",
        "outputId": "8fe99948-24d9-42ed-bf21-3b5a4c124f90",
        "colab": {
          "base_uri": "https://localhost:8080/",
          "height": 34
        }
      },
      "source": [
        "# Predict the result\n",
        "print(model.predict([8.0]))\n"
      ],
      "execution_count": 0,
      "outputs": [
        {
          "output_type": "stream",
          "text": [
            "[[2398.5034]]\n"
          ],
          "name": "stdout"
        }
      ]
    },
    {
      "cell_type": "code",
      "metadata": {
        "id": "Jzq9uznTOapS",
        "colab_type": "code",
        "outputId": "fe60551e-f2d0-4769-c39b-76b9d5879b3b",
        "colab": {
          "base_uri": "https://localhost:8080/",
          "height": 34
        }
      },
      "source": [
        "# Looking at the weight layer (Rules)\n",
        "\n",
        "print('These are the layer variables {}'.format(model.get_weights()))"
      ],
      "execution_count": 0,
      "outputs": [
        {
          "output_type": "stream",
          "text": [
            "These are the layer variables [array([[299.59756]], dtype=float32), array([1.7228699], dtype=float32)]\n"
          ],
          "name": "stdout"
        }
      ]
    }
  ]
}